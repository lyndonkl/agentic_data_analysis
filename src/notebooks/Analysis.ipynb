{
 "cells": [
  {
   "cell_type": "code",
   "execution_count": 2,
   "id": "19bfeeab-4d7e-4193-be6b-0cee80d839ab",
   "metadata": {},
   "outputs": [
    {
     "name": "stderr",
     "output_type": "stream",
     "text": [
      "\u001b[31m(node:23894) [DEP0040] DeprecationWarning: The `punycode` module is deprecated. Please use a userland alternative instead.\n",
      "(Use `node --trace-deprecation ...` to show where the warning was created)\u001b[39m\n"
     ]
    }
   ],
   "source": [
    "import { parse } from 'csv-parse/sync';\n",
    "import { readFileSync } from 'fs';\n",
    "import { analysisGraph } from 'agentic-data-analysis';\n",
    "import type { GraphState, Data } from 'agentic-data-analysis';\n",
    "\n",
    "async function analyzeCSVData(filepath: string): Promise<GraphState> {\n",
    "  try {\n",
    "    // Read and parse CSV file\n",
    "    const fileContent = readFileSync(filepath, 'utf-8');\n",
    "    const records = parse(fileContent, {\n",
    "      columns: true,\n",
    "      skip_empty_lines: true,\n",
    "      cast: true,\n",
    "    }) as Data;\n",
    "\n",
    "    // Initialize graph with data\n",
    "    const result = await analysisGraph.invoke({\n",
    "      data: records\n",
    "    });\n",
    "\n",
    "    return result;\n",
    "  } catch (error) {\n",
    "    console.error('Error analyzing CSV data:', error);\n",
    "    throw error;\n",
    "  }\n",
    "}"
   ]
  },
  {
   "cell_type": "code",
   "execution_count": 3,
   "id": "fddb554d-e6f2-4a9e-9618-99b65c0b2986",
   "metadata": {},
   "outputs": [
    {
     "name": "stderr",
     "output_type": "stream",
     "text": [
      "Error analyzing data: OpenAIError: The OPENAI_API_KEY environment variable is missing or empty; either provide it, or instantiate the OpenAI client with an apiKey option, like new OpenAI({ apiKey: 'My API Key' }).\n",
      "    at new OpenAI (/Users/kushaldsouza/Documents/Projects/agentic_data_analysis/src/langgraph/node_modules/\u001b[4mopenai\u001b[24m/index.js:69:19)\n",
      "    at ChatOpenAI._getClientOptions (/Users/kushaldsouza/Documents/Projects/agentic_data_analysis/src/langgraph/node_modules/\u001b[4m@langchain\u001b[24m/openai/dist/chat_models.cjs:1573:27)\n",
      "    at ChatOpenAI.completionWithRetry (/Users/kushaldsouza/Documents/Projects/agentic_data_analysis/src/langgraph/node_modules/\u001b[4m@langchain\u001b[24m/openai/dist/chat_models.cjs:1525:37)\n",
      "    at ChatOpenAI._generate (/Users/kushaldsouza/Documents/Projects/agentic_data_analysis/src/langgraph/node_modules/\u001b[4m@langchain\u001b[24m/openai/dist/chat_models.cjs:1355:35)\n",
      "    at /Users/kushaldsouza/Documents/Projects/agentic_data_analysis/src/langgraph/node_modules/\u001b[4m@langchain\u001b[24m/core/dist/language_models/chat_models.cjs:227:96\n",
      "    at Array.map (<anonymous>)\n",
      "    at ChatOpenAI._generateUncached (/Users/kushaldsouza/Documents/Projects/agentic_data_analysis/src/langgraph/node_modules/\u001b[4m@langchain\u001b[24m/core/dist/language_models/chat_models.cjs:227:67)\n",
      "    at async ChatOpenAI.invoke (/Users/kushaldsouza/Documents/Projects/agentic_data_analysis/src/langgraph/node_modules/\u001b[4m@langchain\u001b[24m/core/dist/language_models/chat_models.cjs:65:24)\n",
      "    at async generateFieldDescriptions (/Users/kushaldsouza/Documents/Projects/agentic_data_analysis/src/langgraph/dist/nodes/analyzer/index.js:115:26)\n",
      "    at async RunnableCallable.dataAnalyzer [as func] (/Users/kushaldsouza/Documents/Projects/agentic_data_analysis/src/langgraph/dist/nodes/analyzer/index.js:180:30)\n"
     ]
    },
    {
     "name": "stdout",
     "output_type": "stream",
     "text": [
      "\n",
      "Dataset Summary:\n",
      "\u001b[90mundefined\u001b[39m\n",
      "\n",
      "Field Analysis:\n",
      "\n",
      "Data Quality Issues:\n",
      "\u001b[90mundefined\u001b[39m\n"
     ]
    }
   ],
   "source": [
    "const filepath = './healthcare_dataset.csv';\n",
    "const analysis = await analyzeCSVData(filepath);\n",
    "\n",
    "console.log('\\nDataset Summary:');\n",
    "console.log(analysis.metadata?.summary);\n",
    "\n",
    "console.log('\\nField Analysis:');\n",
    "Object.entries(analysis.metadata?.fields ?? {}).forEach(([field, meta]) => {\n",
    "  console.log(`\\n${field}:`);\n",
    "  console.log(meta.description);\n",
    "});\n",
    "\n",
    "console.log('\\nData Quality Issues:');\n",
    "console.log(analysis.metadata?.dataQualityIssues);"
   ]
  },
  {
   "cell_type": "code",
   "execution_count": null,
   "id": "f9c9df43-9e4b-4a9c-83fb-4b2f9a22c913",
   "metadata": {},
   "outputs": [],
   "source": []
  }
 ],
 "metadata": {
  "kernelspec": {
   "display_name": "TypeScript",
   "language": "typescript",
   "name": "tslab"
  },
  "language_info": {
   "codemirror_mode": {
    "mode": "typescript",
    "name": "javascript",
    "typescript": true
   },
   "file_extension": ".ts",
   "mimetype": "text/typescript",
   "name": "typescript",
   "version": "3.7.2"
  }
 },
 "nbformat": 4,
 "nbformat_minor": 5
}
