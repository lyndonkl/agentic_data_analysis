{
 "cells": [
  {
   "cell_type": "code",
   "execution_count": 1,
   "id": "19bfeeab-4d7e-4193-be6b-0cee80d839ab",
   "metadata": {},
   "outputs": [],
   "source": [
    "import { parse } from 'csv-parse/sync';\n",
    "import { readFileSync } from 'fs';\n",
    "import { analysisGraph } from 'agentic-data-analysis';\n",
    "import type { GraphState, Data } from 'agentic-data-analysis';\n",
    "\n",
    "async function analyzeCSVData(filepath: string): Promise<GraphState> {\n",
    "  try {\n",
    "    // Read and parse CSV file\n",
    "    const fileContent = readFileSync(filepath, 'utf-8');\n",
    "    const records = parse(fileContent, {\n",
    "      columns: true,\n",
    "      skip_empty_lines: true,\n",
    "      cast: true,\n",
    "    }) as Data;\n",
    "\n",
    "    // Initialize graph with data\n",
    "    const result = await analysisGraph.invoke({\n",
    "      data: records\n",
    "    });\n",
    "\n",
    "    return result;\n",
    "  } catch (error) {\n",
    "    console.error('Error analyzing CSV data:', error);\n",
    "    throw error;\n",
    "  }\n",
    "}"
   ]
  },
  {
   "cell_type": "code",
   "execution_count": null,
   "id": "fddb554d-e6f2-4a9e-9618-99b65c0b2986",
   "metadata": {},
   "outputs": [],
   "source": [
    "const filepath = './healthcare_dataset.csv';\n",
    "const analysis = await analyzeCSVData(filepath);\n",
    "\n",
    "console.log('\\nDataset Summary:');\n",
    "console.log(analysis.metadata?.summary);\n",
    "\n",
    "console.log('\\nField Analysis:');\n",
    "Object.entries(analysis.metadata?.fields ?? {}).forEach(([field, meta]) => {\n",
    "  console.log(`\\n${field}:`);\n",
    "  console.log(meta.description);\n",
    "});\n",
    "\n",
    "console.log('\\nData Quality Issues:');\n",
    "console.log(analysis.metadata?.dataQualityIssues);"
   ]
  },
  {
   "cell_type": "code",
   "execution_count": null,
   "id": "f9c9df43-9e4b-4a9c-83fb-4b2f9a22c913",
   "metadata": {},
   "outputs": [],
   "source": [
    "console.log(JSON.stringify(analysis.metadata));"
   ]
  },
  {
   "cell_type": "code",
   "execution_count": null,
   "id": "c6e10bf0-c3ae-467c-8f3f-98af97bea893",
   "metadata": {},
   "outputs": [],
   "source": []
  }
 ],
 "metadata": {
  "kernelspec": {
   "display_name": "TypeScript",
   "language": "typescript",
   "name": "tslab"
  },
  "language_info": {
   "codemirror_mode": {
    "mode": "typescript",
    "name": "javascript",
    "typescript": true
   },
   "file_extension": ".ts",
   "mimetype": "text/typescript",
   "name": "typescript",
   "version": "3.7.2"
  }
 },
 "nbformat": 4,
 "nbformat_minor": 5
}
